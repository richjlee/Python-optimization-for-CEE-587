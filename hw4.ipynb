{
 "cells": [
  {
   "cell_type": "code",
   "execution_count": 48,
   "metadata": {
    "collapsed": false
   },
   "outputs": [],
   "source": [
    "import numpy as np\n",
    "from scipy.optimize import minimize\n",
    "\n",
    "#Example Problem\n",
    "CAPACITY = [10000, 12000, 14000]\n",
    "DEMAND = [9000, 6000, 6000, 13000]\n",
    "COST = np.array([[5, 3.5, 4.2, 2.2],\n",
    "                 [3.2, 2.6, 1.8, 4.8],\n",
    "                 [2.5, 3.1, 3.3, 5.4]])\n",
    "COST = COST.flatten()\n",
    "\n",
    "x0 = [0]*12\n",
    "bnds = tuple((0,14000) for x in x0)\n",
    "\n",
    "#Set constraints\n",
    "def con_la_capacity(x): return CAPACITY[0] - (x[0] + x[1] + x[2] + x[3])\n",
    "def con_atl_capacity(x): return CAPACITY[1] - (x[4] + x[5] + x[6] + x[7])\n",
    "def con_ny_capacity(x): return CAPACITY[2] - (x[8] + x[9] + x[10] + x[11])\n",
    "def con_e_demand(x): return DEMAND[0] - (x[0] + x[4] + x[8])\n",
    "def con_mw_demand(x): return DEMAND[1] - (x[1] + x[5] + x[9])\n",
    "def con_s_demand(x): return DEMAND[2] - (x[2] + x[6] + x[10])\n",
    "def con_w_demand(x): return DEMAND[3] - (x[3] + x[7] + x[11])\n",
    "\n",
    "cons = [{'type': 'ineq', 'fun': con_la_capacity},\n",
    "        {'type': 'ineq', 'fun': con_atl_capacity},\n",
    "        {'type': 'ineq', 'fun': con_ny_capacity},\n",
    "        {'type': 'eq', 'fun': con_e_demand},\n",
    "        {'type': 'eq', 'fun': con_mw_demand},\n",
    "        {'type': 'eq', 'fun': con_s_demand},\n",
    "        {'type': 'eq', 'fun': con_w_demand}]\n",
    "\n",
    "def total_cost(x):\n",
    "    cost = sum([a*b for a,b in zip(x,COST)])\n",
    "    return cost\n",
    "\n",
    "res = minimize(total_cost, x0, method = 'SLSQP', constraints = cons, bounds = bnds)\n",
    "min_cost = res.fun\n",
    "solution1 = res.x.reshape(3,4)\n",
    "solution1 = np.rint(solution1)"
   ]
  },
  {
   "cell_type": "code",
   "execution_count": 49,
   "metadata": {
    "collapsed": false
   },
   "outputs": [
    {
     "name": "stdout",
     "output_type": "stream",
     "text": [
      "[[     0.      0.      0.  10000.]\n",
      " [     0.   3000.   6000.   3000.]\n",
      " [  9000.   3000.      0.      0.]] Minimum Cost: $ 86800.0\n"
     ]
    }
   ],
   "source": [
    "print(solution1, 'Minimum Cost: $', min_cost)"
   ]
  },
  {
   "cell_type": "code",
   "execution_count": 31,
   "metadata": {
    "collapsed": false
   },
   "outputs": [],
   "source": [
    "################ PROBLEM 2 ################\n",
    "\n",
    "SALES_PRICE = [45, 40, 38, 36, 39, 34]*6\n",
    "TAX_RATE = [0.3, 0.4, 0.2, 0.4, 0.35, 0.18]*6\n",
    "PROD_COST = [8, 7, 6, 9, 7, 7]*6\n",
    "DEMAND = [1000000, 2000000, 3000000, 4000000, 5000000, 6000000]\n",
    "CAPACITY = [6000000, 6000000, 6000000, 6000000, 6000000, 6000000]\n",
    "SHIP_COST = np.array([[3, 4, 5, 6, 7, 8], \n",
    "                      [5, 2, 6, 9, 10, 11], \n",
    "                      [4, 3, 1, 6, 8, 6],\n",
    "                      [5, 5, 7, 2, 5, 5],\n",
    "                      [6, 9, 6, 5, 3, 7],\n",
    "                      [7, 7, 8, 9, 10, 4]])\n",
    "SHIP_COST = SHIP_COST.flatten()\n",
    "\n",
    "x0 = [0]*36\n",
    "bnds = tuple((0,6000000) for x in x0)\n",
    "\n",
    "#Set constraints\n",
    "def con_capacity1(x): return CAPACITY[0] - (x[0] + x[1] + x[2] + x[3] + x[4] + x[5])\n",
    "def con_capacity2(x): return CAPACITY[1] - (x[6] + x[7] + x[8] + x[9] + x[10] + x[11])\n",
    "def con_capacity3(x): return CAPACITY[2] - (x[12] + x[13] + x[14] + x[15] + x[16] + x[17])\n",
    "def con_capacity4(x): return CAPACITY[3] - (x[18] + x[19] + x[20] + x[21] + x[22] + x[23])\n",
    "def con_capacity5(x): return CAPACITY[4] - (x[24] + x[25] + x[26] + x[27] + x[28] + x[29])\n",
    "def con_capacity6(x): return CAPACITY[5] - (x[30] + x[31] + x[32] + x[33] + x[34] + x[35])\n",
    "def con_demand1(x): return DEMAND[0] - (x[0] + x[6] + x[12] + x[18] + x[24] + x[30])\n",
    "def con_demand2(x): return DEMAND[1] - (x[1] + x[7] + x[13] + x[19] + x[25] + x[31])\n",
    "def con_demand3(x): return DEMAND[2] - (x[2] + x[8] + x[14] + x[20] + x[26] + x[32])\n",
    "def con_demand4(x): return DEMAND[3] - (x[3] + x[9] + x[15] + x[21] + x[27] + x[33])\n",
    "def con_demand5(x): return DEMAND[4] - (x[4] + x[10] + x[16] + x[22] + x[28] + x[34])\n",
    "def con_demand6(x): return DEMAND[5] - (x[5] + x[11] + x[17] + x[23] + x[29] + x[35])\n",
    "\n",
    "cons = [{'type': 'ineq', 'fun': con_capacity1},\n",
    "        {'type': 'ineq', 'fun': con_capacity2},\n",
    "        {'type': 'ineq', 'fun': con_capacity3},\n",
    "        {'type': 'ineq', 'fun': con_capacity4},\n",
    "        {'type': 'ineq', 'fun': con_capacity5},\n",
    "        {'type': 'ineq', 'fun': con_capacity6},\n",
    "        {'type': 'eq', 'fun': con_demand1},\n",
    "        {'type': 'eq', 'fun': con_demand2},\n",
    "        {'type': 'eq', 'fun': con_demand3},\n",
    "        {'type': 'eq', 'fun': con_demand4},\n",
    "        {'type': 'eq', 'fun': con_demand5},\n",
    "        {'type': 'eq', 'fun': con_demand6}]\n",
    "\n",
    "def profit(x):\n",
    "    revenue = [a*b for a,b in zip(x,SALES_PRICE)]\n",
    "    prodcosts = [a*b for a,b in zip(x,PROD_COST)] \n",
    "    shipcosts = [a*b for a,b in zip(x,SHIP_COST)]\n",
    "    total_costs = [a+b for a,b in zip(prodcosts, shipcosts)]\n",
    "    profit = [a-b for a,b in zip(revenue, total_costs)]\n",
    "    taxes = [a*b for a,b in zip(profit, TAX_RATE)]\n",
    "    aftertax_profit = sum(profit) - sum(taxes)\n",
    "    aftertax_profit = aftertax_profit*-1 #to maximize\n",
    "    return aftertax_profit\n",
    "\n",
    "res = minimize(profit, x0, method = 'SLSQP', constraints = cons, bounds = bnds)\n",
    "max_aftertax_profit = res.fun\n",
    "solution2 = res.x.reshape(6,6).astype(int)"
   ]
  },
  {
   "cell_type": "code",
   "execution_count": 32,
   "metadata": {
    "collapsed": false
   },
   "outputs": [
    {
     "name": "stdout",
     "output_type": "stream",
     "text": [
      "[[ 428604  413462 1187670  546524  580435 1147994]\n",
      " [  43394  489346  461323   38657  305485       0]\n",
      " [ 342809  400640 1056172  737052  513409 1215257]\n",
      " [  61227  622076       0 1232919 1503322 1454170]\n",
      " [    117   51332  294832  924093 1714306  691882]\n",
      " [ 123846   23141       0  520751  383040 1490694]] Max After-Tax Profit: $ 369098881.212\n"
     ]
    }
   ],
   "source": [
    "#PROBLEM 2 SOLUTION (assumes tax rate applied to profits, not revenues)\n",
    "print(solution2, 'Max After-Tax Profit: $', max_aftertax_profit*-1)"
   ]
  },
  {
   "cell_type": "code",
   "execution_count": 15,
   "metadata": {
    "collapsed": false
   },
   "outputs": [],
   "source": [
    "################ PROBLEM 3 ################\n",
    "\n",
    "CAPACITY = [70000, 70000, 70000]\n",
    "DEMAND = [40000, 40000, 40000, 40000, 40000]\n",
    "DISTANCE = np.array([[983, 0, 1205, 2112, 1390],\n",
    "                     [1815, 1205, 0, 801, 1332],\n",
    "                     [1539, 1390, 1332, 2757, 0]])\n",
    "DISTANCE = DISTANCE.flatten()\n",
    "\n",
    "x0 = [0]*15\n",
    "bnds = tuple((0,40000) for x in x0)\n",
    "\n",
    "#Set constraints\n",
    "def con_capacity_chi(x): return CAPACITY[0] - (x[0] + x[1] + x[2] + x[3] + x[4])\n",
    "def con_capacity_dal(x): return CAPACITY[1] - (x[5] + x[6] + x[7] + x[8] + x[9])\n",
    "def con_capacity_mia(x): return CAPACITY[2] - (x[10] + x[11] + x[12] + x[13] + x[14])\n",
    "def con_demand_bos(x): return DEMAND[0] - (x[0] + x[5] + x[10])\n",
    "def con_demand_chi(x): return DEMAND[1] - (x[1] + x[6] + x[11])\n",
    "def con_demand_dal(x): return DEMAND[2] - (x[2] + x[7] + x[12])\n",
    "def con_demand_la(x): return DEMAND[3] - (x[3] + x[8] + x[13])\n",
    "def con_demand_mia(x): return DEMAND[4] - (x[4] + x[9] + x[14])\n",
    "\n",
    "cons = [{'type': 'ineq', 'fun': con_capacity_chi},\n",
    "        {'type': 'ineq', 'fun': con_capacity_dal},\n",
    "        {'type': 'ineq', 'fun': con_capacity_mia},\n",
    "        {'type': 'eq', 'fun': con_demand_bos},\n",
    "        {'type': 'eq', 'fun': con_demand_chi},\n",
    "        {'type': 'eq', 'fun': con_demand_dal},\n",
    "        {'type': 'eq', 'fun': con_demand_la},\n",
    "        {'type': 'eq', 'fun': con_demand_mia}]\n",
    "\n",
    "def total_cost(x):\n",
    "    dist = DISTANCE/100 #convert to 100s of miles\n",
    "    x = x/1000 #convert to 1000s of kwh\n",
    "    cost = (sum([a*b for a,b in zip(x,dist)]))*4\n",
    "    return cost\n",
    "\n",
    "res = minimize(total_cost, x0, method = 'SLSQP', constraints = cons, bounds = bnds)\n",
    "min_cost = res.fun\n",
    "solution3 = res.x.reshape(3,5)\n",
    "solution3 = np.rint(solution3)"
   ]
  },
  {
   "cell_type": "code",
   "execution_count": 16,
   "metadata": {
    "collapsed": false
   },
   "outputs": [
    {
     "name": "stdout",
     "output_type": "stream",
     "text": [
      "[[ 30000.  40000.      0.      0.      0.]\n",
      " [     0.      0.  30000.  40000.      0.]\n",
      " [ 10000.      0.  10000.      0.  40000.]] Minimum Cost: $ 3609.6000003\n"
     ]
    }
   ],
   "source": [
    "print(solution3, 'Minimum Cost: $', min_cost)"
   ]
  },
  {
   "cell_type": "code",
   "execution_count": 38,
   "metadata": {
    "collapsed": true
   },
   "outputs": [],
   "source": [
    "################ PROBLEM 4 ################\n",
    "\n",
    "#[north, central south]\n",
    "CAPACITY = [120, 120, 40]\n",
    "DEMAND = [100, 100, 100] #in billions of gallons\n",
    "SHIP_COST = np.array([[5000, 7000, 10000],\n",
    "                     [7000, 5000, 6000],\n",
    "                     [10000, 6000, 5000]])\n",
    "SHIP_COST = SHIP_COST.flatten()\n",
    "SHORT_COST = [6000, 5500, 9000]\n",
    "\n",
    "x0 = [0]*9\n",
    "bnds = tuple((0,100) for x in x0)\n",
    "\n",
    "#Set constraints\n",
    "def con_capacity_n(x): return CAPACITY[0] - (x[0] + x[1] + x[2])\n",
    "def con_capacity_c(x): return CAPACITY[1] - (x[3] + x[4] + x[5])\n",
    "def con_capacity_s(x): return CAPACITY[2] - (x[6] + x[7] + x[8])\n",
    "def con_capacity_all(x): return sum(CAPACITY) - sum(x) #to use up all capacity\n",
    "def con_demand_n(x): return DEMAND[0] - (x[0] + x[3] + x[6])\n",
    "def con_demand_c(x): return DEMAND[1] - (x[1] + x[4] + x[7])\n",
    "def con_demand_s(x): return DEMAND[2] - (x[2] + x[5] + x[8])\n",
    "\n",
    "cons = [{'type': 'ineq', 'fun': con_capacity_n},\n",
    "        {'type': 'ineq', 'fun': con_capacity_c},\n",
    "        {'type': 'ineq', 'fun': con_capacity_s},\n",
    "        {'type': 'eq', 'fun': con_capacity_all},\n",
    "        {'type': 'ineq', 'fun': con_demand_n},\n",
    "        {'type': 'ineq', 'fun': con_demand_c},\n",
    "        {'type': 'ineq', 'fun': con_demand_s},]\n",
    "\n",
    "def total_cost(x):\n",
    "    shippingCost = sum([a*b for a,b in zip(x,SHIP_COST)])\n",
    "    \n",
    "    nShort = DEMAND[0] - (x[0] + x[3] + x[6])\n",
    "    cShort = DEMAND[1] - (x[1] + x[4] + x[7])\n",
    "    sShort = DEMAND[2] - (x[2] + x[5] + x[8])\n",
    "    shortageAmt = [nShort, cShort, sShort]\n",
    "    shortageCost = sum([a*b for a,b in zip(shortageAmt, SHORT_COST)])\n",
    "    \n",
    "    cost = shippingCost + shortageCost\n",
    "    return cost\n",
    "\n",
    "res = minimize(total_cost, x0, method = 'SLSQP', constraints = cons, bounds = bnds)\n",
    "min_cost = res.fun\n",
    "solution4 = res.x.reshape(3,3)\n",
    "solution4 = np.rint(solution4)"
   ]
  },
  {
   "cell_type": "code",
   "execution_count": 39,
   "metadata": {
    "collapsed": false
   },
   "outputs": [
    {
     "name": "stdout",
     "output_type": "stream",
     "text": [
      "[[ 100.   20.    0.]\n",
      " [   0.   60.   60.]\n",
      " [   0.    0.   40.]] Minimum Cost: $ 1609999.94448\n"
     ]
    }
   ],
   "source": [
    "print(solution4, 'Minimum Cost: $', min_cost)"
   ]
  }
 ],
 "metadata": {
  "kernelspec": {
   "display_name": "Python 3",
   "language": "python",
   "name": "python3"
  },
  "language_info": {
   "codemirror_mode": {
    "name": "ipython",
    "version": 3
   },
   "file_extension": ".py",
   "mimetype": "text/x-python",
   "name": "python",
   "nbconvert_exporter": "python",
   "pygments_lexer": "ipython3",
   "version": "3.5.1"
  }
 },
 "nbformat": 4,
 "nbformat_minor": 0
}
